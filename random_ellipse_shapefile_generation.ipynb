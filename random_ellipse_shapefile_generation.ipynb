{
 "cells": [
  {
   "cell_type": "code",
   "execution_count": 4,
   "metadata": {
    "colab": {
     "base_uri": "https://localhost:8080/"
    },
    "executionInfo": {
     "elapsed": 17427,
     "status": "ok",
     "timestamp": 1651972814325,
     "user": {
      "displayName": "Zhiang Chen",
      "userId": "14710434422152901796"
     },
     "user_tz": 420
    },
    "id": "WLQ2LSQM3229",
    "outputId": "5e307e83-c3ad-4a11-b20a-0171718a634c"
   },
   "outputs": [
    {
     "data": {
      "text/plain": [
       "['.git',\n",
       " 'annotation_map_splitting.ipynb',\n",
       " 'docs',\n",
       " 'LICENSE',\n",
       " 'requirements.txt',\n",
       " 'instance_registration.ipynb',\n",
       " '.gitignore',\n",
       " 'google_colab_notebooks',\n",
       " 'data',\n",
       " 'libs',\n",
       " 'random_ellipse_shapefile_generation.ipynb',\n",
       " 'README.md',\n",
       " '.ipynb_checkpoints']"
      ]
     },
     "execution_count": 4,
     "metadata": {},
     "output_type": "execute_result"
    }
   ],
   "source": [
    "import fiona\n",
    "from fiona.crs import from_epsg\n",
    "from pyproj import CRS\n",
    "import os\n",
    "from matplotlib.patches import Ellipse\n",
    "from shapely.geometry import Polygon, mapping\n",
    "import numpy as np\n",
    "from tqdm import tqdm\n",
    "from osgeo import gdal\n",
    "\n",
    "os.listdir()"
   ]
  },
  {
   "cell_type": "markdown",
   "metadata": {
    "id": "6By__A7yCJI9"
   },
   "source": [
    "# generate random ellipses "
   ]
  },
  {
   "cell_type": "code",
   "execution_count": 5,
   "metadata": {
    "colab": {
     "base_uri": "https://localhost:8080/"
    },
    "executionInfo": {
     "elapsed": 13,
     "status": "ok",
     "timestamp": 1651972814326,
     "user": {
      "displayName": "Zhiang Chen",
      "userId": "14710434422152901796"
     },
     "user_tz": 420
    },
    "id": "o8CUrRaL5Acp",
    "outputId": "3523e7e8-058e-4523-a81f-fa60ae290a61"
   },
   "outputs": [
    {
     "name": "stdout",
     "output_type": "stream",
     "text": [
      "epsg:32611\n"
     ]
    }
   ],
   "source": [
    "epsg = 32611  # WGS 84 / UTM zone 11N\n",
    "crs = from_epsg(epsg)\n",
    "print(CRS.from_epsg(epsg))"
   ]
  },
  {
   "cell_type": "code",
   "execution_count": 6,
   "metadata": {
    "executionInfo": {
     "elapsed": 11,
     "status": "ok",
     "timestamp": 1651972814326,
     "user": {
      "displayName": "Zhiang Chen",
      "userId": "14710434422152901796"
     },
     "user_tz": 420
    },
    "id": "je-2-cG-HRX6"
   },
   "outputs": [],
   "source": [
    "def generate_ellipse(center_x, center_y, width, height, angle):\n",
    "  ellipse = Ellipse((center_x, center_y), width, height, angle) \n",
    "  vertices = ellipse.get_verts()     # get the vertices from the ellipse object\n",
    "  ellipse = Polygon(vertices)        # Turn it into a polygon\n",
    "  return ellipse"
   ]
  },
  {
   "cell_type": "code",
   "execution_count": 9,
   "metadata": {
    "colab": {
     "base_uri": "https://localhost:8080/"
    },
    "executionInfo": {
     "elapsed": 847,
     "status": "ok",
     "timestamp": 1651994199990,
     "user": {
      "displayName": "Zhiang Chen",
      "userId": "14710434422152901796"
     },
     "user_tz": 420
    },
    "id": "VcGcilIjD8jA",
    "outputId": "d067385c-aa53-4d3b-dc48-151066599d09"
   },
   "outputs": [
    {
     "name": "stderr",
     "output_type": "stream",
     "text": [
      "100%|████████████████████████████████████| 3600/3600 [00:00<00:00, 10576.07it/s]\n"
     ]
    }
   ],
   "source": [
    "def spawn_ellipses(tile_length, ellipse_length_range, density, tile_number):\n",
    "  \"\"\"\n",
    "  tile: tile_length/tile_width in meters\n",
    "  ellipse: length_length_range in meters\n",
    "  density: average number of ellipses per tile\n",
    "  study area: tile_number along north (the total study are is tile_length^2 * tile_number^2)\n",
    "  tile origin is (0, 0)\n",
    "  \"\"\"\n",
    "  ellipses = []\n",
    "  N = tile_number**2 * density\n",
    "  X = tile_length * tile_number\n",
    "  Y = tile_length * tile_number\n",
    "  center_x_list = np.random.rand(N) * X\n",
    "  center_y_list = np.random.rand(N) * Y\n",
    "  angle_list = np.random.rand(N) * 180\n",
    "  width_list = np.random.uniform(ellipse_length_range[0], ellipse_length_range[1], N)\n",
    "  height_list = np.random.uniform(ellipse_length_range[0], ellipse_length_range[1], N)\n",
    "  for i in tqdm(range(N)):\n",
    "    ellipse = generate_ellipse(center_x_list[i], center_y_list[i], width_list[i], height_list[i], angle_list[i])\n",
    "    ellipses.append(ellipse)\n",
    "  return ellipses\n",
    "\n",
    "ellipse_max = 1.5\n",
    "ellipse_min = 0.2\n",
    "tile_length = 10 \n",
    "ellipse_range = (ellipse_min, ellipse_max)\n",
    "density = 400\n",
    "tile_number = 3\n",
    "\n",
    "ellipses = spawn_ellipses(tile_length, ellipse_range, density, tile_number)\n"
   ]
  },
  {
   "cell_type": "code",
   "execution_count": 10,
   "metadata": {
    "executionInfo": {
     "elapsed": 2094,
     "status": "ok",
     "timestamp": 1651994203319,
     "user": {
      "displayName": "Zhiang Chen",
      "userId": "14710434422152901796"
     },
     "user_tz": 420
    },
    "id": "I7IUYW905vN4"
   },
   "outputs": [],
   "source": [
    "schema = {\n",
    "    'geometry':'Polygon',\n",
    "    'properties':[('id','str')]\n",
    "}\n",
    "\n",
    "# 2. open a write file\n",
    "polyShp = fiona.open('data/random_generation/random_400_3.shp', mode='w', driver='ESRI Shapefile', schema = schema, crs = crs)\n",
    "\n",
    "# 3. add polygons to file\n",
    "for id, polygon in enumerate(ellipses):\n",
    "  rowDict = {'geometry' : mapping(polygon), 'properties': {'id': str(id)}}\n",
    "  polyShp.write(rowDict)\n",
    "\n",
    "# 4. write file\n",
    "polyShp.close()\n"
   ]
  },
  {
   "cell_type": "markdown",
   "metadata": {
    "id": "kFqgg8ZLCB3c"
   },
   "source": [
    "# generate a fake tiff file"
   ]
  },
  {
   "cell_type": "code",
   "execution_count": 11,
   "metadata": {
    "executionInfo": {
     "elapsed": 167,
     "status": "ok",
     "timestamp": 1651991927057,
     "user": {
      "displayName": "Zhiang Chen",
      "userId": "14710434422152901796"
     },
     "user_tz": 420
    },
    "id": "sv0CWgeCF96Y"
   },
   "outputs": [],
   "source": [
    "from osgeo import gdal\n",
    "from osgeo import osr\n",
    "import numpy as np\n",
    "import os, sys\n",
    "\n",
    "# raster resolution\n",
    "xres = 0.01\n",
    "yres = 0.01\n",
    "\n",
    "#  Choose some Geographic Transform (Around Lake Tahoe)\n",
    "lat = [0, tile_length*tile_number + ellipse_max/2]\n",
    "lon = [0, tile_length*tile_number + ellipse_max/2]\n",
    "\n",
    "#  Calculate the Image Size\n",
    "image_size = (int(lat[1]/xres), int(lon[1]/yres))\n",
    "\n",
    "#  Create Each Channel\n",
    "r_pixels = np.ones((image_size), dtype=np.uint8)*0\n",
    "\n",
    "# set geotransform\n",
    "nx = image_size[0]\n",
    "ny = image_size[1]\n",
    "xmin, ymin, xmax, ymax = [min(lon), min(lat), max(lon), max(lat)]\n",
    "geotransform = (xmin, xres, 0, ymax, 0, -yres)\n",
    "\n",
    "# create the 3-band raster file\n",
    "dst_ds = gdal.GetDriverByName('GTiff').Create('data/random_generation/random_400_3.tif', ny, nx, 1, gdal.GDT_Byte)\n",
    "\n",
    "dst_ds.SetGeoTransform(geotransform)    # specify coords\n",
    "srs = osr.SpatialReference()            # establish encoding\n",
    "srs.ImportFromEPSG(epsg)                # WGS84 lat/long\n",
    "dst_ds.SetProjection(srs.ExportToWkt()) # export coords to file\n",
    "dst_ds.GetRasterBand(1).WriteArray(r_pixels)   # write r-band to the raster\n",
    "dst_ds.FlushCache()                     # write to disk\n",
    "dst_ds = None"
   ]
  },
  {
   "cell_type": "code",
   "execution_count": null,
   "metadata": {
    "id": "-TqFcbeEQkv7"
   },
   "outputs": [],
   "source": []
  }
 ],
 "metadata": {
  "colab": {
   "authorship_tag": "ABX9TyNMe/FNc3ZYUsj5JSGsY81I",
   "name": "random_ellipse_shapefile_generation.ipynb",
   "provenance": []
  },
  "kernelspec": {
   "display_name": "Python 3 (ipykernel)",
   "language": "python",
   "name": "python3"
  },
  "language_info": {
   "codemirror_mode": {
    "name": "ipython",
    "version": 3
   },
   "file_extension": ".py",
   "mimetype": "text/x-python",
   "name": "python",
   "nbconvert_exporter": "python",
   "pygments_lexer": "ipython3",
   "version": "3.10.4"
  }
 },
 "nbformat": 4,
 "nbformat_minor": 1
}
